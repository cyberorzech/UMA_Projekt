{
 "cells": [
  {
   "cell_type": "code",
   "execution_count": 4,
   "metadata": {},
   "outputs": [],
   "source": [
    "import numpy as np\n",
    "import pandas as pd"
   ]
  },
  {
   "cell_type": "code",
   "execution_count": null,
   "metadata": {},
   "outputs": [],
   "source": [
    "print(\"ok\")"
   ]
  },
  {
   "cell_type": "code",
   "execution_count": 1,
   "metadata": {},
   "outputs": [
    {
     "name": "stderr",
     "output_type": "stream",
     "text": [
      "2022-01-30 01:21:06.134 | SUCCESS  | run:main:14 - Data loaded\n",
      "2022-01-30 01:21:06.146 | SUCCESS  | run:main:25 - Data is valid\n",
      "2022-01-30 01:21:06.147 | SUCCESS  | run:main:26 - Summary\n",
      "len(donor_positive_only)=1116\n",
      "len(donor_negative_only)=4140\n",
      "len(acceptor_positive_only)=1116\n",
      "len(acceptor_negative_only)=4672\n"
     ]
    }
   ],
   "source": [
    "from run import main\n",
    "\n",
    "donor_positive, donor_negative, acceptor_positive, acceptor_negative = main()"
   ]
  },
  {
   "cell_type": "code",
   "execution_count": 5,
   "metadata": {},
   "outputs": [
    {
     "data": {
      "text/plain": [
       "4140"
      ]
     },
     "execution_count": 5,
     "metadata": {},
     "output_type": "execute_result"
    }
   ],
   "source": [
    "len(donor_negative)"
   ]
  },
  {
   "cell_type": "code",
   "execution_count": 25,
   "metadata": {},
   "outputs": [
    {
     "name": "stdout",
     "output_type": "stream",
     "text": [
      "X Przed: ['ACTTAGAGTTATAAT' 'GGGCGGGGTGGGGCA' 'TGTCTTGGTAGTTAC' 'CATGGGTGTGCTGGG']\n",
      "X po ['CATGGGTGTGCTGGG' 'GGGCGGGGTGGGGCA' 'ACTTAGAGTTATAAT' 'TGTCTTGGTAGTTAC']\n"
     ]
    }
   ],
   "source": [
    "# get training and test set\n",
    "TRAINING_SET_SIZE = 75\n",
    "x = donor_negative[:4]\n",
    "print(f\"X Przed: {x}\")\n",
    "np.random.shuffle(x)\n",
    "print(f\"X po {x}\")\n",
    "\n"
   ]
  },
  {
   "cell_type": "code",
   "execution_count": 7,
   "metadata": {},
   "outputs": [
    {
     "name": "stdout",
     "output_type": "stream",
     "text": [
      "TRAIN: [0] TEST: [1]\n",
      "TRAIN: [1] TEST: [0]\n",
      "TRAIN: [1] TEST: [0]\n",
      "TRAIN: [0] TEST: [1]\n",
      "TRAIN: [1] TEST: [0]\n"
     ]
    }
   ],
   "source": [
    "from sklearn.model_selection import ShuffleSplit\n",
    "import numpy as np\n",
    "X = np.array([[100, 101], [102, 103]])\n",
    "y = np.array([1, 2, 3, 4])\n",
    "rs = ShuffleSplit(n_splits=5, test_size=.25, random_state=0)\n",
    "rs.get_n_splits(5)\n",
    "for train_index, test_index in rs.split(X):\n",
    "    print(\"TRAIN:\", train_index, \"TEST:\", test_index)"
   ]
  },
  {
   "cell_type": "code",
   "execution_count": 6,
   "metadata": {},
   "outputs": [
    {
     "name": "stdout",
     "output_type": "stream",
     "text": [
      "['AGATGCCGTCGGGCT1', 'GGCACGGGTCCCGCT1']\n",
      "['AGATGCCGTCGGGCT1' 'GGCACGGGTCCCGCT1']\n",
      "<class 'numpy.ndarray'>\n"
     ]
    }
   ],
   "source": [
    "y = donor_negative\n",
    "x = np.ones((len(y), 1))\n",
    "np.shape(y)\n",
    "np.shape(x)\n",
    "# result = list()\n",
    "# for el in y:\n",
    "#     el_str = str(el)\n",
    "#     el_str = f\"{el_str}1\"\n",
    "#     result.append(el_str)\n",
    "result = [f\"{str(dna_sequence)}1\" for dna_sequence in y]\n",
    "print(result[:2])\n",
    "result = np.array(result)\n",
    "print(result[:2])\n",
    "print(type(result))"
   ]
  },
  {
   "cell_type": "code",
   "execution_count": 7,
   "metadata": {},
   "outputs": [
    {
     "name": "stdout",
     "output_type": "stream",
     "text": [
      "(4140,)\n",
      "(8280,)\n",
      "4140\n"
     ]
    }
   ],
   "source": [
    "result2 = result\n",
    "result3 = np.concatenate((result2, result))\n",
    "print(np.shape(result))\n",
    "print(np.shape(result3))\n",
    "\n",
    "print(np.shape(result)[0])"
   ]
  },
  {
   "cell_type": "code",
   "execution_count": 84,
   "metadata": {},
   "outputs": [
    {
     "name": "stdout",
     "output_type": "stream",
     "text": [
      "[2 1 6 3 5 4]\n"
     ]
    }
   ],
   "source": [
    "x = np.array([1, 2, 3, 4, 5, 6])\n",
    "np.random.shuffle(x)\n",
    "print(x)"
   ]
  },
  {
   "cell_type": "code",
   "execution_count": 93,
   "metadata": {},
   "outputs": [],
   "source": [
    "TRAINING_SET_SIZE = .75\n",
    "x = np.array([1,2,3,4,5,6,7,8,9,10]*100)\n",
    "\n",
    "y = x[:int(TRAINING_SET_SIZE*len(x)) -1]\n",
    "z = x[int(TRAINING_SET_SIZE*len(x)):]"
   ]
  },
  {
   "cell_type": "code",
   "execution_count": 95,
   "metadata": {},
   "outputs": [
    {
     "name": "stdout",
     "output_type": "stream",
     "text": [
      "(1000,)\n",
      "(749,)\n",
      "(250,)\n",
      "<class 'numpy.ndarray'>\n"
     ]
    }
   ],
   "source": [
    "print(np.shape(x))\n",
    "print(np.shape(y))\n",
    "print(np.shape(z))\n",
    "print(type(z))"
   ]
  },
  {
   "cell_type": "code",
   "execution_count": 2,
   "metadata": {},
   "outputs": [
    {
     "name": "stderr",
     "output_type": "stream",
     "text": [
      "2022-01-30 01:21:13.331 | ERROR    | __main__:<module>:3 - An error has been caught in function '<module>', process 'MainProcess' (12216), thread 'MainThread' (10376):\n",
      "Traceback (most recent call last):\n",
      "\n",
      "  File \"C:\\Python310\\lib\\runpy.py\", line 196, in _run_module_as_main\n",
      "    return _run_code(code, main_globals, None,\n",
      "           │         │     └ {'__name__': '__main__', '__doc__': 'Entry point for launching an IPython kernel.\\n\\nThis is separate from the ipykernel pack...\n",
      "           │         └ <code object <module> at 0x000001A52DDC6AD0, file \"c:\\Users\\natan\\Desktop\\UMA_Projekt\\.venv\\lib\\site-packages\\ipykernel_launc...\n",
      "           └ <function _run_code at 0x000001A52DDCA5F0>\n",
      "\n",
      "  File \"C:\\Python310\\lib\\runpy.py\", line 86, in _run_code\n",
      "    exec(code, run_globals)\n",
      "         │     └ {'__name__': '__main__', '__doc__': 'Entry point for launching an IPython kernel.\\n\\nThis is separate from the ipykernel pack...\n",
      "         └ <code object <module> at 0x000001A52DDC6AD0, file \"c:\\Users\\natan\\Desktop\\UMA_Projekt\\.venv\\lib\\site-packages\\ipykernel_launc...\n",
      "\n",
      "  File \"c:\\Users\\natan\\Desktop\\UMA_Projekt\\.venv\\lib\\site-packages\\ipykernel_launcher.py\", line 16, in <module>\n",
      "    app.launch_new_instance()\n",
      "    │   └ <bound method Application.launch_instance of <class 'ipykernel.kernelapp.IPKernelApp'>>\n",
      "    └ <module 'ipykernel.kernelapp' from 'c:\\\\Users\\\\natan\\\\Desktop\\\\UMA_Projekt\\\\.venv\\\\lib\\\\site-packages\\\\ipykernel\\\\kernelapp.py'>\n",
      "\n",
      "  File \"c:\\Users\\natan\\Desktop\\UMA_Projekt\\.venv\\lib\\site-packages\\traitlets\\config\\application.py\", line 846, in launch_instance\n",
      "    app.start()\n",
      "    │   └ <function IPKernelApp.start at 0x000001A53257E290>\n",
      "    └ <ipykernel.kernelapp.IPKernelApp object at 0x000001A52DD687C0>\n",
      "\n",
      "  File \"c:\\Users\\natan\\Desktop\\UMA_Projekt\\.venv\\lib\\site-packages\\ipykernel\\kernelapp.py\", line 677, in start\n",
      "    self.io_loop.start()\n",
      "    │    │       └ <function BaseAsyncIOLoop.start at 0x000001A5306FA4D0>\n",
      "    │    └ <tornado.platform.asyncio.AsyncIOMainLoop object at 0x000001A5325AC730>\n",
      "    └ <ipykernel.kernelapp.IPKernelApp object at 0x000001A52DD687C0>\n",
      "\n",
      "  File \"c:\\Users\\natan\\Desktop\\UMA_Projekt\\.venv\\lib\\site-packages\\tornado\\platform\\asyncio.py\", line 199, in start\n",
      "    self.asyncio_loop.run_forever()\n",
      "    │    │            └ <function BaseEventLoop.run_forever at 0x000001A52FEBD360>\n",
      "    │    └ <_WindowsSelectorEventLoop running=True closed=False debug=False>\n",
      "    └ <tornado.platform.asyncio.AsyncIOMainLoop object at 0x000001A5325AC730>\n",
      "\n",
      "  File \"C:\\Python310\\lib\\asyncio\\base_events.py\", line 595, in run_forever\n",
      "    self._run_once()\n",
      "    │    └ <function BaseEventLoop._run_once at 0x000001A52FEBEE60>\n",
      "    └ <_WindowsSelectorEventLoop running=True closed=False debug=False>\n",
      "\n",
      "  File \"C:\\Python310\\lib\\asyncio\\base_events.py\", line 1881, in _run_once\n",
      "    handle._run()\n",
      "    │      └ <function Handle._run at 0x000001A52E6A68C0>\n",
      "    └ <Handle Task.task_wakeup(<Future finis...5E0>, ...],))>)>\n",
      "\n",
      "  File \"C:\\Python310\\lib\\asyncio\\events.py\", line 80, in _run\n",
      "    self._context.run(self._callback, *self._args)\n",
      "    │    │            │    │           │    └ <member '_args' of 'Handle' objects>\n",
      "    │    │            │    │           └ <Handle Task.task_wakeup(<Future finis...5E0>, ...],))>)>\n",
      "    │    │            │    └ <member '_callback' of 'Handle' objects>\n",
      "    │    │            └ <Handle Task.task_wakeup(<Future finis...5E0>, ...],))>)>\n",
      "    │    └ <member '_context' of 'Handle' objects>\n",
      "    └ <Handle Task.task_wakeup(<Future finis...5E0>, ...],))>)>\n",
      "\n",
      "  File \"c:\\Users\\natan\\Desktop\\UMA_Projekt\\.venv\\lib\\site-packages\\ipykernel\\kernelbase.py\", line 461, in dispatch_queue\n",
      "    await self.process_one()\n",
      "          │    └ <function Kernel.process_one at 0x000001A531E66710>\n",
      "          └ <ipykernel.ipkernel.IPythonKernel object at 0x000001A5325AE800>\n",
      "\n",
      "  File \"c:\\Users\\natan\\Desktop\\UMA_Projekt\\.venv\\lib\\site-packages\\ipykernel\\kernelbase.py\", line 450, in process_one\n",
      "    await dispatch(*args)\n",
      "          │         └ ([<zmq.sugar.frame.Frame object at 0x000001A532055010>, <zmq.sugar.frame.Frame object at 0x000001A532662980>, <zmq.sugar.fram...\n",
      "          └ <bound method Kernel.dispatch_shell of <ipykernel.ipkernel.IPythonKernel object at 0x000001A5325AE800>>\n",
      "\n",
      "  File \"c:\\Users\\natan\\Desktop\\UMA_Projekt\\.venv\\lib\\site-packages\\ipykernel\\kernelbase.py\", line 357, in dispatch_shell\n",
      "    await result\n",
      "          └ <coroutine object Kernel.execute_request at 0x000001A5326027A0>\n",
      "\n",
      "  File \"c:\\Users\\natan\\Desktop\\UMA_Projekt\\.venv\\lib\\site-packages\\ipykernel\\kernelbase.py\", line 652, in execute_request\n",
      "    reply_content = await reply_content\n",
      "                          └ <coroutine object IPythonKernel.do_execute at 0x000001A5326021F0>\n",
      "\n",
      "  File \"c:\\Users\\natan\\Desktop\\UMA_Projekt\\.venv\\lib\\site-packages\\ipykernel\\ipkernel.py\", line 353, in do_execute\n",
      "    res = shell.run_cell(code, store_history=store_history, silent=silent)\n",
      "          │     │        │                   │                     └ False\n",
      "          │     │        │                   └ True\n",
      "          │     │        └ 'from src.miscellaneous.data_loader import split_to_training_and_test\\n\\ntraining, test = split_to_training_and_test(donor_po...\n",
      "          │     └ <function ZMQInteractiveShell.run_cell at 0x000001A531E72320>\n",
      "          └ <ipykernel.zmqshell.ZMQInteractiveShell object at 0x000001A5325AE8C0>\n",
      "\n",
      "  File \"c:\\Users\\natan\\Desktop\\UMA_Projekt\\.venv\\lib\\site-packages\\ipykernel\\zmqshell.py\", line 532, in run_cell\n",
      "    return super().run_cell(*args, **kwargs)\n",
      "                             │       └ {'store_history': True, 'silent': False}\n",
      "                             └ ('from src.miscellaneous.data_loader import split_to_training_and_test\\n\\ntraining, test = split_to_training_and_test(donor_p...\n",
      "\n",
      "  File \"c:\\Users\\natan\\Desktop\\UMA_Projekt\\.venv\\lib\\site-packages\\IPython\\core\\interactiveshell.py\", line 2768, in run_cell\n",
      "    result = self._run_cell(\n",
      "             │    └ <function InteractiveShell._run_cell at 0x000001A530CACB80>\n",
      "             └ <ipykernel.zmqshell.ZMQInteractiveShell object at 0x000001A5325AE8C0>\n",
      "\n",
      "  File \"c:\\Users\\natan\\Desktop\\UMA_Projekt\\.venv\\lib\\site-packages\\IPython\\core\\interactiveshell.py\", line 2814, in _run_cell\n",
      "    return runner(coro)\n",
      "           │      └ <coroutine object InteractiveShell.run_cell_async at 0x000001A532602C00>\n",
      "           └ <function _pseudo_sync_runner at 0x000001A530CA4790>\n",
      "\n",
      "  File \"c:\\Users\\natan\\Desktop\\UMA_Projekt\\.venv\\lib\\site-packages\\IPython\\core\\async_helpers.py\", line 129, in _pseudo_sync_runner\n",
      "    coro.send(None)\n",
      "    │    └ <method 'send' of 'coroutine' objects>\n",
      "    └ <coroutine object InteractiveShell.run_cell_async at 0x000001A532602C00>\n",
      "\n",
      "  File \"c:\\Users\\natan\\Desktop\\UMA_Projekt\\.venv\\lib\\site-packages\\IPython\\core\\interactiveshell.py\", line 3012, in run_cell_async\n",
      "    has_raised = await self.run_ast_nodes(code_ast.body, cell_name,\n",
      "                       │    │             │        │     └ 'C:\\\\Users\\\\natan\\\\AppData\\\\Local\\\\Temp\\\\ipykernel_12216\\\\2891781727.py'\n",
      "                       │    │             │        └ [<ast.ImportFrom object at 0x000001A53267CD00>, <ast.Assign object at 0x000001A53267EEC0>]\n",
      "                       │    │             └ <ast.Module object at 0x000001A53267E9E0>\n",
      "                       │    └ <function InteractiveShell.run_ast_nodes at 0x000001A530CACE50>\n",
      "                       └ <ipykernel.zmqshell.ZMQInteractiveShell object at 0x000001A5325AE8C0>\n",
      "\n",
      "  File \"c:\\Users\\natan\\Desktop\\UMA_Projekt\\.venv\\lib\\site-packages\\IPython\\core\\interactiveshell.py\", line 3191, in run_ast_nodes\n",
      "    if await self.run_code(code, result, async_=asy):\n",
      "             │    │        │     │              └ False\n",
      "             │    │        │     └ <ExecutionResult object at 1a53267e2c0, execution_count=2 error_before_exec=None error_in_exec=None info=<ExecutionInfo objec...\n",
      "             │    │        └ <code object <module> at 0x000001A53A833730, file \"C:\\Users\\natan\\AppData\\Local\\Temp\\ipykernel_12216\\2891781727.py\", line 1>\n",
      "             │    └ <function InteractiveShell.run_code at 0x000001A530CACEE0>\n",
      "             └ <ipykernel.zmqshell.ZMQInteractiveShell object at 0x000001A5325AE8C0>\n",
      "\n",
      "  File \"c:\\Users\\natan\\Desktop\\UMA_Projekt\\.venv\\lib\\site-packages\\IPython\\core\\interactiveshell.py\", line 3251, in run_code\n",
      "    exec(code_obj, self.user_global_ns, self.user_ns)\n",
      "         │         │    │               │    └ {'__name__': '__main__', '__doc__': 'Automatically created module for IPython interactive environment', '__package__': None, ...\n",
      "         │         │    │               └ <ipykernel.zmqshell.ZMQInteractiveShell object at 0x000001A5325AE8C0>\n",
      "         │         │    └ <property object at 0x000001A530C93740>\n",
      "         │         └ <ipykernel.zmqshell.ZMQInteractiveShell object at 0x000001A5325AE8C0>\n",
      "         └ <code object <module> at 0x000001A53A833730, file \"C:\\Users\\natan\\AppData\\Local\\Temp\\ipykernel_12216\\2891781727.py\", line 1>\n",
      "\n",
      "> File \"C:\\Users\\natan\\AppData\\Local\\Temp\\ipykernel_12216\\2891781727.py\", line 3, in <module>\n",
      "    training, test = split_to_training_and_test(donor_positive, donor_negative)\n",
      "                     │                          │               └ array(['AGATGCCGTCGGGCT', 'GGCACGGGTCCCGCT', 'CCCTGCAGTTTGGGT', ...,\n",
      "                     │                          │                        'GAGCAGCGTGCAGGA', 'TGCAGGAGTCCCAGG', 'GTCCCAGGTG...\n",
      "                     │                          └ array(['CTCCGAAGTAGGATT', 'TCAGAAGGTGAGGGC', 'TTGGAAGGTTCGCAG', ...,\n",
      "                     │                                   'CCTGCTGGTACGTGG', 'TCTGCCCGTAAGCAC', 'AGGCCAGGTA...\n",
      "                     └ <function split_to_training_and_test at 0x000001A53A82A710>\n",
      "\n",
      "  File \"c:\\Users\\natan\\Desktop\\UMA_Projekt\\src\\miscellaneous\\data_loader.py\", line 64, in split_to_training_and_test\n",
      "    negative_size = int(np.shape(negative_data_with_labels[0]))\n",
      "                        │  │     └ array(['AGATGCCGTCGGGCT0', 'GGCACGGGTCCCGCT0', 'CCCTGCAGTTTGGGT0', ...,\n",
      "                        │  │              'GAGCAGCGTGCAGGA0', 'TGCAGGAGTCCCAGG0', 'GTCCC...\n",
      "                        │  └ <function shape at 0x000001A53880A8C0>\n",
      "                        └ <module 'numpy' from 'c:\\\\Users\\\\natan\\\\Desktop\\\\UMA_Projekt\\\\.venv\\\\lib\\\\site-packages\\\\numpy\\\\__init__.py'>\n",
      "\n",
      "TypeError: int() argument must be a string, a bytes-like object or a real number, not 'tuple'\n"
     ]
    },
    {
     "ename": "TypeError",
     "evalue": "cannot unpack non-iterable NoneType object",
     "output_type": "error",
     "traceback": [
      "\u001b[1;31m---------------------------------------------------------------------------\u001b[0m",
      "\u001b[1;31mTypeError\u001b[0m                                 Traceback (most recent call last)",
      "Input \u001b[1;32mIn [2]\u001b[0m, in \u001b[0;36m<module>\u001b[1;34m\u001b[0m\n\u001b[0;32m      1\u001b[0m \u001b[38;5;28;01mfrom\u001b[39;00m \u001b[38;5;21;01msrc\u001b[39;00m\u001b[38;5;21;01m.\u001b[39;00m\u001b[38;5;21;01mmiscellaneous\u001b[39;00m\u001b[38;5;21;01m.\u001b[39;00m\u001b[38;5;21;01mdata_loader\u001b[39;00m \u001b[38;5;28;01mimport\u001b[39;00m split_to_training_and_test\n\u001b[1;32m----> 3\u001b[0m training, test \u001b[38;5;241m=\u001b[39m split_to_training_and_test(donor_positive, donor_negative)\n",
      "\u001b[1;31mTypeError\u001b[0m: cannot unpack non-iterable NoneType object"
     ]
    }
   ],
   "source": [
    "from src.miscellaneous.data_loader import split_to_training_and_test\n",
    "\n",
    "training, test = split_to_training_and_test(donor_positive, donor_negative)\n"
   ]
  }
 ],
 "metadata": {
  "interpreter": {
   "hash": "47f04d2b7c510345e4b0e67757e5f8f3db6e93df493d820b88f505ca3dad1e23"
  },
  "kernelspec": {
   "display_name": "Python 3.8.8 64-bit ('base': conda)",
   "language": "python",
   "name": "python3"
  },
  "language_info": {
   "codemirror_mode": {
    "name": "ipython",
    "version": 3
   },
   "file_extension": ".py",
   "mimetype": "text/x-python",
   "name": "python",
   "nbconvert_exporter": "python",
   "pygments_lexer": "ipython3",
   "version": "3.10.1"
  },
  "orig_nbformat": 4
 },
 "nbformat": 4,
 "nbformat_minor": 2
}
