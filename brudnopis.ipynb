{
 "cells": [
  {
   "cell_type": "code",
   "execution_count": null,
   "metadata": {},
   "outputs": [],
   "source": [
    "import numpy as np\n",
    "import pandas as pd"
   ]
  },
  {
   "cell_type": "code",
   "execution_count": null,
   "metadata": {},
   "outputs": [],
   "source": [
    "donor_tra"
   ]
  },
  {
   "cell_type": "code",
   "execution_count": null,
   "metadata": {},
   "outputs": [],
   "source": [
    "from run import main\n",
    "\n",
    "donor_positive, donor_negative, acceptor_positive, acceptor_negative = main()"
   ]
  },
  {
   "cell_type": "code",
   "execution_count": null,
   "metadata": {},
   "outputs": [],
   "source": [
    "len(donor_negative)"
   ]
  },
  {
   "cell_type": "code",
   "execution_count": null,
   "metadata": {},
   "outputs": [],
   "source": [
    "# get training and test set\n",
    "TRAINING_SET_SIZE = 75\n",
    "x = donor_negative[:4]\n",
    "print(f\"X Przed: {x}\")\n",
    "np.random.shuffle(x)\n",
    "print(f\"X po {x}\")\n",
    "\n"
   ]
  },
  {
   "cell_type": "code",
   "execution_count": null,
   "metadata": {},
   "outputs": [],
   "source": [
    "from sklearn.model_selection import ShuffleSplit\n",
    "import numpy as np\n",
    "X = np.array([[100, 101], [102, 103]])\n",
    "y = np.array([1, 2, 3, 4])\n",
    "rs = ShuffleSplit(n_splits=5, test_size=.25, random_state=0)\n",
    "rs.get_n_splits(5)\n",
    "for train_index, test_index in rs.split(X):\n",
    "    print(\"TRAIN:\", train_index, \"TEST:\", test_index)"
   ]
  },
  {
   "cell_type": "code",
   "execution_count": null,
   "metadata": {},
   "outputs": [],
   "source": [
    "y = donor_negative\n",
    "x = np.ones((len(y), 1))\n",
    "np.shape(y)\n",
    "np.shape(x)\n",
    "# result = list()\n",
    "# for el in y:\n",
    "#     el_str = str(el)\n",
    "#     el_str = f\"{el_str}1\"\n",
    "#     result.append(el_str)\n",
    "result = [f\"{str(dna_sequence)}1\" for dna_sequence in y]\n",
    "print(result[:2])\n",
    "result = np.array(result)\n",
    "print(result[:2])\n",
    "print(type(result))"
   ]
  },
  {
   "cell_type": "code",
   "execution_count": null,
   "metadata": {},
   "outputs": [],
   "source": [
    "result2 = result\n",
    "result3 = np.concatenate((result2, result))\n",
    "print(np.shape(result))\n",
    "print(np.shape(result3))\n",
    "\n",
    "print(np.shape(result)[0])"
   ]
  },
  {
   "cell_type": "code",
   "execution_count": null,
   "metadata": {},
   "outputs": [],
   "source": [
    "x = np.array([1, 2, 3, 4, 5, 6])\n",
    "np.random.shuffle(x)\n",
    "print(x)"
   ]
  },
  {
   "cell_type": "code",
   "execution_count": null,
   "metadata": {},
   "outputs": [],
   "source": [
    "TRAINING_SET_SIZE = .75\n",
    "x = np.array([1,2,3,4,5,6,7,8,9,10]*100)\n",
    "\n",
    "y = x[:int(TRAINING_SET_SIZE*len(x)) -1]\n",
    "z = x[int(TRAINING_SET_SIZE*len(x)):]"
   ]
  },
  {
   "cell_type": "code",
   "execution_count": null,
   "metadata": {},
   "outputs": [],
   "source": [
    "print(np.shape(x))\n",
    "print(np.shape(y))\n",
    "print(np.shape(z))\n",
    "print(type(z))"
   ]
  },
  {
   "cell_type": "code",
   "execution_count": null,
   "metadata": {},
   "outputs": [],
   "source": [
    "from src.miscellaneous.data_loader import split_to_training_and_test\n",
    "\n",
    "training, test = split_to_training_and_test(donor_positive, donor_negative)\n"
   ]
  },
  {
   "cell_type": "code",
   "execution_count": 113,
   "metadata": {},
   "outputs": [
    {
     "name": "stdout",
     "output_type": "stream",
     "text": [
      "[0, 1, 2, 3, 4, 5, 6, 7, 8, 9, 'zz']\n"
     ]
    }
   ],
   "source": [
    "import numpy as np\n",
    "import pandas as pd\n",
    "\n",
    "numpy_data = np.array([[1, 2], [3, 4]])\n",
    "columns = map(int, range(10))\n",
    "columns = list(columns)\n",
    "columns.append(\"zz\")\n",
    "type(columns)\n",
    "print(columns)\n",
    "\n",
    "#df = pd.DataFrame(data=numpy_data, columns=columns)"
   ]
  },
  {
   "cell_type": "code",
   "execution_count": null,
   "metadata": {},
   "outputs": [],
   "source": [
    "df"
   ]
  },
  {
   "cell_type": "code",
   "execution_count": null,
   "metadata": {},
   "outputs": [],
   "source": [
    "from src.miscellaneous.data_loader import get_datasets\n",
    "donor_training_set, donor_test_set, acceptor_training_set, acceptor_test_set, d_art, a_art = get_datasets()\n",
    "\n",
    "donor_training_set.to_string()"
   ]
  },
  {
   "cell_type": "code",
   "execution_count": null,
   "metadata": {},
   "outputs": [],
   "source": [
    "# split arrayow na NxM tablice z rozbitymi stringami\n",
    "# str, lista, array\n",
    "\n",
    "result = list()\n",
    "for str_seq in donor_training_set:\n",
    "    str_lst = list(str_seq)\n",
    "    result.append(str_lst)\n",
    "result = np.array(result)\n",
    "\n",
    "columns = map(int, range(len(str_seq) - 1))\n",
    "columns = list(columns)\n",
    "columns.append(\"label\")\n",
    "\n",
    "result = pd.DataFrame(data=result, columns=columns)\n",
    "result"
   ]
  },
  {
   "cell_type": "code",
   "execution_count": null,
   "metadata": {},
   "outputs": [],
   "source": [
    "# donor 15 + label\n",
    "# acceptor 90 + label\n",
    "columns = map(int, range(15))\n",
    "columns = list(columns)\n",
    "columns.append(\"label\")\n",
    "\n",
    "\n",
    "donor_training_set_pd = pd.DataFrame(data=donor_training_set)\n",
    "donor_training_set_pd"
   ]
  },
  {
   "cell_type": "code",
   "execution_count": null,
   "metadata": {},
   "outputs": [],
   "source": [
    "# proba splitu\n",
    "x = np.array(x)\n",
    "x\n",
    "# x = np.split(x, len(x))\n",
    "# x = pd.DataFrame(data=x)\n",
    "# x"
   ]
  },
  {
   "cell_type": "code",
   "execution_count": null,
   "metadata": {},
   "outputs": [],
   "source": [
    "x = np.str_(\"asd\")\n",
    "x = list(x)\n",
    "x"
   ]
  },
  {
   "cell_type": "markdown",
   "metadata": {},
   "source": [
    "Implementacja"
   ]
  },
  {
   "cell_type": "code",
   "execution_count": null,
   "metadata": {},
   "outputs": [],
   "source": [
    "from run import get_sets\n",
    "donor_training_set, donor_test_set, acceptor_training_set, acceptor_test_set, donor_artifact, acceptor_artifact = get_sets()"
   ]
  },
  {
   "cell_type": "markdown",
   "metadata": {},
   "source": [
    "szukamy roota, zbior wartosci: A, C, G, T\n",
    "wez indeks 0\n",
    "jesli ind0 to A: ile 0, ile 1\n",
    "            to C: ile 0, ile 1 itd.\n",
    "\n",
    "x[0][2] [colon][row]"
   ]
  },
  {
   "cell_type": "code",
   "execution_count": null,
   "metadata": {},
   "outputs": [],
   "source": [
    "a_score, c_score, g_score, t_score = [{\"true\": 0, \"false\": 0}]*4\n",
    "options = [\"A\", \"C\", \"G\", \"T\"]\n",
    "x = donor_training_set\n",
    "results = list()\n",
    "# x[1][2]\n",
    "# iteruj po rzedach\n",
    "# for index, row in x.iterrows():\n",
    "#     print(row)\n",
    "for column_index in x:\n",
    "    column_results = {\n",
    "    \"A\": {\n",
    "        \"true\": 0,\n",
    "        \"false\": 0\n",
    "    },\n",
    "    \"C\": {\n",
    "        \"true\": 0,\n",
    "        \"false\": 0\n",
    "    }\n",
    "    ,\n",
    "    \"G\": {\n",
    "        \"true\": 0,\n",
    "        \"false\": 0\n",
    "    }\n",
    "    ,\n",
    "    \"T\": {\n",
    "        \"true\": 0,\n",
    "        \"false\": 0\n",
    "    }\n",
    "}\n",
    "    for row in x[column_index]:\n",
    "        # row jest kolejnymi literkami w kolumnie\n",
    "        for option in options:\n",
    "            if row == option:\n",
    "                if \n",
    "                \n",
    "                break\n",
    "                "
   ]
  },
  {
   "cell_type": "code",
   "execution_count": null,
   "metadata": {},
   "outputs": [],
   "source": [
    "results = {\n",
    "    \"A\": {\n",
    "        \"true\": 0,\n",
    "        \"false\": 0\n",
    "    },\n",
    "    \"C\": {\n",
    "        \"true\": 0,\n",
    "        \"false\": 0\n",
    "    }\n",
    "    ,\n",
    "    \"G\": {\n",
    "        \"true\": 0,\n",
    "        \"false\": 0\n",
    "    }\n",
    "    ,\n",
    "    \"T\": {\n",
    "        \"true\": 0,\n",
    "        \"false\": 0\n",
    "    }\n",
    "}"
   ]
  },
  {
   "cell_type": "code",
   "execution_count": null,
   "metadata": {},
   "outputs": [],
   "source": [
    "x"
   ]
  },
  {
   "cell_type": "code",
   "execution_count": null,
   "metadata": {},
   "outputs": [],
   "source": [
    "# za duzo mocy potrzeba - rozbij na mniejsze. liczenie dla jednej kolumny\n",
    "row_index = 0\n",
    "row = x[row_index]\n",
    "a_score, c_score, g_score, t_score = [0]*4\n",
    "# letter_options = [\"A\", \"C\", \"G\", \"T\"]\n",
    "for letter in row:\n",
    "    if letter == \"A\":\n",
    "        if x[\"label\"][]\n",
    "    if letter == \"C\":\n",
    "        pass\n",
    "    if letter == \"G\":\n",
    "        pass\n",
    "    if letter == \"T\":\n",
    "        pass\n"
   ]
  },
  {
   "cell_type": "code",
   "execution_count": null,
   "metadata": {},
   "outputs": [],
   "source": [
    "# zaczyna miec to sens\n",
    "\n",
    "labels = x[\"label\"]\n",
    "for column_index in x:\n",
    "    column_data = x[column_index]\n",
    "    a_score, c_score, g_score, t_score = check_letters_and_labels(column_data, labels)\n",
    "    print(f\"{column_index=}{a_score=}{c_score=}{g_score=}{t_score=}\")"
   ]
  },
  {
   "cell_type": "code",
   "execution_count": null,
   "metadata": {},
   "outputs": [],
   "source": [
    "def check_letters_and_labels(column_data, labels):\n",
    "    # [true_amount, false_amount]\n",
    "    a_score = [0,0]\n",
    "    c_score = [0,0]\n",
    "    g_score = [0,0]\n",
    "    t_score = [0,0]\n",
    "    for row_index, letter in enumerate(column_data):\n",
    "        if letter == \"A\":\n",
    "            a_score = update_label_score(label=labels[row_index], letter_score=a_score)\n",
    "        elif letter == \"C\":\n",
    "            c_score = update_label_score(label=labels[row_index], letter_score=c_score)\n",
    "        elif letter == \"G\":\n",
    "            g_score = update_label_score(label=labels[row_index], letter_score=g_score)\n",
    "        elif letter == \"T\":\n",
    "            t_score = update_label_score(label=labels[row_index], letter_score=t_score)\n",
    "    return a_score, c_score, g_score, t_score"
   ]
  },
  {
   "cell_type": "code",
   "execution_count": null,
   "metadata": {},
   "outputs": [],
   "source": [
    "def update_label_score(label, letter_score):\n",
    "    TRUE_INDEX = 0\n",
    "    FALSE_INDEX = 1\n",
    "    if label == \"1\":\n",
    "        letter_score[TRUE_INDEX] += 1\n",
    "    else:\n",
    "        letter_score[FALSE_INDEX] += 1\n",
    "    return letter_score"
   ]
  },
  {
   "cell_type": "code",
   "execution_count": null,
   "metadata": {},
   "outputs": [],
   "source": [
    "x"
   ]
  },
  {
   "cell_type": "code",
   "execution_count": null,
   "metadata": {},
   "outputs": [],
   "source": [
    "a_score = [1, 2]\n",
    "b_score = [2, 4]\n",
    "scores = [a_score, b_score]\n",
    "scores"
   ]
  },
  {
   "cell_type": "code",
   "execution_count": null,
   "metadata": {},
   "outputs": [],
   "source": [
    "a_score, b_score = [*scores]"
   ]
  },
  {
   "cell_type": "code",
   "execution_count": null,
   "metadata": {},
   "outputs": [],
   "source": [
    "a, b = [[0,0]]* 2\n",
    "if [*a] == [0,0]:\n",
    "    print(\"ok\")"
   ]
  },
  {
   "cell_type": "code",
   "execution_count": null,
   "metadata": {},
   "outputs": [],
   "source": [
    "import pandas as pd\n",
    "x = list()\n",
    "y = pd.DataFrame()\n",
    "x.append(y)"
   ]
  },
  {
   "cell_type": "code",
   "execution_count": null,
   "metadata": {},
   "outputs": [],
   "source": [
    "some_data = pd.DataFrame([[\"asd\", \"dsa\"], [1, 2]])\n",
    "x.append(some_data)\n",
    "x"
   ]
  },
  {
   "cell_type": "code",
   "execution_count": null,
   "metadata": {},
   "outputs": [],
   "source": [
    "for row in some_data.iterrows():\n",
    "    print(row[2])"
   ]
  },
  {
   "cell_type": "code",
   "execution_count": null,
   "metadata": {},
   "outputs": [],
   "source": [
    "x = [None] * 4\n",
    "type(x)\n",
    "len(x)\n",
    "x[2] = 4"
   ]
  },
  {
   "cell_type": "markdown",
   "metadata": {},
   "source": [
    "Proba ogarniecia iterowania po rzedach dla klasy node"
   ]
  },
  {
   "cell_type": "code",
   "execution_count": null,
   "metadata": {},
   "outputs": [],
   "source": [
    "from src.miscellaneous.data_loader import get_datasets\n",
    "\n",
    "[*x] = get_datasets()\n",
    "x = x[0]"
   ]
  },
  {
   "cell_type": "code",
   "execution_count": null,
   "metadata": {},
   "outputs": [],
   "source": [
    "row_1 = None; row_2 = None\n",
    "for index, row in x.iterrows():\n",
    "    if index == 2:\n",
    "        break\n",
    "    if index == 0:\n",
    "        row_1 = row\n",
    "    if index == 1:\n",
    "        row_2 = row"
   ]
  },
  {
   "cell_type": "code",
   "execution_count": null,
   "metadata": {},
   "outputs": [],
   "source": [
    "from run import main\n",
    "splitted_dataset = main()"
   ]
  },
  {
   "cell_type": "code",
   "execution_count": null,
   "metadata": {},
   "outputs": [],
   "source": [
    "ds = splitted_dataset[2]\n",
    "ds"
   ]
  },
  {
   "cell_type": "markdown",
   "metadata": {},
   "source": [
    "debug dzielenia datasetu"
   ]
  },
  {
   "cell_type": "code",
   "execution_count": null,
   "metadata": {},
   "outputs": [],
   "source": [
    "dataset = x\n",
    "label = 11\n",
    "edges = (\"A\", \"C\", \"G\", \"T\")\n"
   ]
  },
  {
   "cell_type": "code",
   "execution_count": null,
   "metadata": {},
   "outputs": [],
   "source": [
    "dataset"
   ]
  },
  {
   "cell_type": "code",
   "execution_count": null,
   "metadata": {},
   "outputs": [],
   "source": [
    "series = None\n",
    "for index, row in dataset.iterrows():\n",
    "    if index == 1:\n",
    "        break\n",
    "    print(type(row[10]))\n",
    "    series = row\n",
    "for edge in edges:\n",
    "    print(edge)\n",
    "    print(type(edge))"
   ]
  },
  {
   "cell_type": "code",
   "execution_count": null,
   "metadata": {},
   "outputs": [],
   "source": [
    "type(series)\n",
    "# df = pd.DataFrame()\n",
    "row = pd.DataFrame(series)\n",
    "df = pd.concat([row, df])\n",
    "#df = pd.concat(pd.DataFrame([series]))"
   ]
  },
  {
   "cell_type": "code",
   "execution_count": null,
   "metadata": {},
   "outputs": [],
   "source": [
    "row = pd.DataFrame([[1,2], [3,4]])\n",
    "row = pd.concat([series, row], ignore_index=True)\n",
    "row"
   ]
  },
  {
   "cell_type": "code",
   "execution_count": null,
   "metadata": {},
   "outputs": [],
   "source": [
    "splitted_dataset = [pd.DataFrame] * 4\n",
    "row = pd.DataFrame(series)\n",
    "\n",
    "splitted_dataset[0] = pd.concat([row, splitted_dataset[0]], ignore_index=True)\n",
    "#splitted_dataset[0] = pd.concat([pd.DataFrame(series), splitted_dataset[0]], ignore_index=True)"
   ]
  },
  {
   "cell_type": "code",
   "execution_count": 114,
   "metadata": {},
   "outputs": [
    {
     "data": {
      "text/plain": [
       "0        A\n",
       "1        T\n",
       "2        C\n",
       "3        A\n",
       "4        G\n",
       "5        G\n",
       "6        G\n",
       "7        G\n",
       "8        T\n",
       "9        G\n",
       "10       G\n",
       "11       C\n",
       "12       A\n",
       "13       G\n",
       "14       G\n",
       "label    0\n",
       "Name: 1, dtype: object"
      ]
     },
     "execution_count": 114,
     "metadata": {},
     "output_type": "execute_result"
    }
   ],
   "source": [
    "row_2"
   ]
  },
  {
   "cell_type": "code",
   "execution_count": null,
   "metadata": {},
   "outputs": [],
   "source": [
    "from run import main\n",
    "splitted_dataset = main()"
   ]
  },
  {
   "cell_type": "code",
   "execution_count": null,
   "metadata": {},
   "outputs": [],
   "source": [
    "splitted_dataset[0]"
   ]
  },
  {
   "cell_type": "markdown",
   "metadata": {},
   "source": [
    "Proba polaczenia dwoch df z zachowaniem indeksow\n",
    "1. stworz pusty df z indeksami\n",
    "2. zmien serie na df\n",
    "3. doklej serie_df do df tak, aby pojawila sie jako kolejny rzad"
   ]
  },
  {
   "cell_type": "code",
   "execution_count": 115,
   "metadata": {},
   "outputs": [],
   "source": [
    "import pandas as pd\n",
    "row_1_copy = row_1\n",
    "row_2_copy = row_2\n"
   ]
  },
  {
   "cell_type": "code",
   "execution_count": 127,
   "metadata": {},
   "outputs": [
    {
     "name": "stdout",
     "output_type": "stream",
     "text": [
      "Before: 0        C\n",
      "1        C\n",
      "2        G\n",
      "3        G\n",
      "4        G\n",
      "5        C\n",
      "6        C\n",
      "7        G\n",
      "8        T\n",
      "9        G\n",
      "10       G\n",
      "11       C\n",
      "12       G\n",
      "13       G\n",
      "14       G\n",
      "label    0\n",
      "Name: 0, dtype: object\n",
      "After    0  1  2  3  4  5  6  7  8  9 10 11 12 13 14 label\n",
      "0  C  C  G  G  G  C  C  G  T  G  G  C  G  G  G     0\n",
      "1  A  T  C  A  G  G  G  G  T  G  G  C  A  G  G     0\n",
      "<class 'pandas.core.series.Series'>\n"
     ]
    },
    {
     "name": "stderr",
     "output_type": "stream",
     "text": [
      "C:\\Users\\natan\\AppData\\Local\\Temp\\ipykernel_14136\\3083755856.py:3: FutureWarning: The frame.append method is deprecated and will be removed from pandas in a future version. Use pandas.concat instead.\n",
      "  df = df.append(row_1, ignore_index=True)\n",
      "C:\\Users\\natan\\AppData\\Local\\Temp\\ipykernel_14136\\3083755856.py:4: FutureWarning: The frame.append method is deprecated and will be removed from pandas in a future version. Use pandas.concat instead.\n",
      "  df = df.append(row_2, ignore_index=True)\n"
     ]
    }
   ],
   "source": [
    "df = pd.DataFrame(columns=row_1.index)\n",
    "print(f\"Before: {row_1}\")\n",
    "df = df.append(row_1, ignore_index=True)\n",
    "df = df.append(row_2, ignore_index=True)\n",
    "print(f\"After {df}\")\n",
    "print(type(row_1))"
   ]
  },
  {
   "cell_type": "code",
   "execution_count": 1,
   "metadata": {},
   "outputs": [
    {
     "name": "stderr",
     "output_type": "stream",
     "text": [
      "2022-02-02 16:55:34.375 | SUCCESS  | src.miscellaneous.data_loader:get_datasets:110 - Data loaded\n",
      "2022-02-02 16:55:34.387 | SUCCESS  | src.miscellaneous.data_loader:get_datasets:121 - Data is valid\n",
      "2022-02-02 16:55:34.388 | SUCCESS  | src.miscellaneous.data_loader:get_datasets:122 - Raw data summary:\n",
      "len(donor_positive_only)=1116\n",
      "len(donor_negative_only)=4140\n",
      "len(acceptor_positive_only)=1116\n",
      "len(acceptor_negative_only)=4672\n",
      "2022-02-02 16:55:34.425 | SUCCESS  | src.miscellaneous.data_loader:get_datasets:129 - Data have been prepared. Summary\n",
      "len(donor_training_set)=3941\n",
      "len(donor_test_set)=1314\n",
      "len(acceptor_training_set)=4340\n",
      "len(acceptor_test_set)=1447\n",
      "2022-02-02 16:55:34.904 | SUCCESS  | run:get_purest_node:30 - least_gini=0.2526214889948138 least_gini_column=11\n"
     ]
    }
   ],
   "source": [
    "from run import main\n",
    "splitted_dataset = main()"
   ]
  },
  {
   "cell_type": "code",
   "execution_count": 2,
   "metadata": {},
   "outputs": [
    {
     "data": {
      "text/html": [
       "<div>\n",
       "<style scoped>\n",
       "    .dataframe tbody tr th:only-of-type {\n",
       "        vertical-align: middle;\n",
       "    }\n",
       "\n",
       "    .dataframe tbody tr th {\n",
       "        vertical-align: top;\n",
       "    }\n",
       "\n",
       "    .dataframe thead th {\n",
       "        text-align: right;\n",
       "    }\n",
       "</style>\n",
       "<table border=\"1\" class=\"dataframe\">\n",
       "  <thead>\n",
       "    <tr style=\"text-align: right;\">\n",
       "      <th></th>\n",
       "      <th>0</th>\n",
       "      <th>1</th>\n",
       "      <th>2</th>\n",
       "      <th>3</th>\n",
       "      <th>4</th>\n",
       "      <th>5</th>\n",
       "      <th>6</th>\n",
       "      <th>7</th>\n",
       "      <th>8</th>\n",
       "      <th>9</th>\n",
       "      <th>10</th>\n",
       "      <th>11</th>\n",
       "      <th>12</th>\n",
       "      <th>13</th>\n",
       "      <th>14</th>\n",
       "      <th>label</th>\n",
       "    </tr>\n",
       "  </thead>\n",
       "  <tbody>\n",
       "    <tr>\n",
       "      <th>0</th>\n",
       "      <td>A</td>\n",
       "      <td>C</td>\n",
       "      <td>C</td>\n",
       "      <td>A</td>\n",
       "      <td>T</td>\n",
       "      <td>C</td>\n",
       "      <td>T</td>\n",
       "      <td>G</td>\n",
       "      <td>T</td>\n",
       "      <td>G</td>\n",
       "      <td>C</td>\n",
       "      <td>T</td>\n",
       "      <td>G</td>\n",
       "      <td>G</td>\n",
       "      <td>A</td>\n",
       "      <td>0</td>\n",
       "    </tr>\n",
       "    <tr>\n",
       "      <th>1</th>\n",
       "      <td>A</td>\n",
       "      <td>C</td>\n",
       "      <td>C</td>\n",
       "      <td>A</td>\n",
       "      <td>G</td>\n",
       "      <td>C</td>\n",
       "      <td>A</td>\n",
       "      <td>G</td>\n",
       "      <td>T</td>\n",
       "      <td>G</td>\n",
       "      <td>C</td>\n",
       "      <td>T</td>\n",
       "      <td>G</td>\n",
       "      <td>T</td>\n",
       "      <td>C</td>\n",
       "      <td>0</td>\n",
       "    </tr>\n",
       "    <tr>\n",
       "      <th>2</th>\n",
       "      <td>A</td>\n",
       "      <td>G</td>\n",
       "      <td>T</td>\n",
       "      <td>C</td>\n",
       "      <td>G</td>\n",
       "      <td>G</td>\n",
       "      <td>G</td>\n",
       "      <td>G</td>\n",
       "      <td>T</td>\n",
       "      <td>G</td>\n",
       "      <td>G</td>\n",
       "      <td>T</td>\n",
       "      <td>G</td>\n",
       "      <td>G</td>\n",
       "      <td>G</td>\n",
       "      <td>0</td>\n",
       "    </tr>\n",
       "    <tr>\n",
       "      <th>3</th>\n",
       "      <td>G</td>\n",
       "      <td>C</td>\n",
       "      <td>G</td>\n",
       "      <td>G</td>\n",
       "      <td>C</td>\n",
       "      <td>C</td>\n",
       "      <td>T</td>\n",
       "      <td>G</td>\n",
       "      <td>T</td>\n",
       "      <td>A</td>\n",
       "      <td>T</td>\n",
       "      <td>T</td>\n",
       "      <td>C</td>\n",
       "      <td>C</td>\n",
       "      <td>C</td>\n",
       "      <td>0</td>\n",
       "    </tr>\n",
       "    <tr>\n",
       "      <th>4</th>\n",
       "      <td>G</td>\n",
       "      <td>T</td>\n",
       "      <td>G</td>\n",
       "      <td>A</td>\n",
       "      <td>T</td>\n",
       "      <td>G</td>\n",
       "      <td>G</td>\n",
       "      <td>G</td>\n",
       "      <td>T</td>\n",
       "      <td>G</td>\n",
       "      <td>C</td>\n",
       "      <td>T</td>\n",
       "      <td>G</td>\n",
       "      <td>C</td>\n",
       "      <td>C</td>\n",
       "      <td>0</td>\n",
       "    </tr>\n",
       "    <tr>\n",
       "      <th>...</th>\n",
       "      <td>...</td>\n",
       "      <td>...</td>\n",
       "      <td>...</td>\n",
       "      <td>...</td>\n",
       "      <td>...</td>\n",
       "      <td>...</td>\n",
       "      <td>...</td>\n",
       "      <td>...</td>\n",
       "      <td>...</td>\n",
       "      <td>...</td>\n",
       "      <td>...</td>\n",
       "      <td>...</td>\n",
       "      <td>...</td>\n",
       "      <td>...</td>\n",
       "      <td>...</td>\n",
       "      <td>...</td>\n",
       "    </tr>\n",
       "    <tr>\n",
       "      <th>806</th>\n",
       "      <td>C</td>\n",
       "      <td>T</td>\n",
       "      <td>G</td>\n",
       "      <td>C</td>\n",
       "      <td>G</td>\n",
       "      <td>C</td>\n",
       "      <td>G</td>\n",
       "      <td>G</td>\n",
       "      <td>T</td>\n",
       "      <td>G</td>\n",
       "      <td>G</td>\n",
       "      <td>T</td>\n",
       "      <td>G</td>\n",
       "      <td>C</td>\n",
       "      <td>C</td>\n",
       "      <td>0</td>\n",
       "    </tr>\n",
       "    <tr>\n",
       "      <th>807</th>\n",
       "      <td>T</td>\n",
       "      <td>G</td>\n",
       "      <td>A</td>\n",
       "      <td>A</td>\n",
       "      <td>C</td>\n",
       "      <td>C</td>\n",
       "      <td>A</td>\n",
       "      <td>G</td>\n",
       "      <td>T</td>\n",
       "      <td>A</td>\n",
       "      <td>C</td>\n",
       "      <td>T</td>\n",
       "      <td>G</td>\n",
       "      <td>T</td>\n",
       "      <td>A</td>\n",
       "      <td>0</td>\n",
       "    </tr>\n",
       "    <tr>\n",
       "      <th>808</th>\n",
       "      <td>A</td>\n",
       "      <td>G</td>\n",
       "      <td>A</td>\n",
       "      <td>C</td>\n",
       "      <td>T</td>\n",
       "      <td>G</td>\n",
       "      <td>A</td>\n",
       "      <td>G</td>\n",
       "      <td>T</td>\n",
       "      <td>G</td>\n",
       "      <td>G</td>\n",
       "      <td>T</td>\n",
       "      <td>A</td>\n",
       "      <td>A</td>\n",
       "      <td>G</td>\n",
       "      <td>0</td>\n",
       "    </tr>\n",
       "    <tr>\n",
       "      <th>809</th>\n",
       "      <td>G</td>\n",
       "      <td>T</td>\n",
       "      <td>G</td>\n",
       "      <td>T</td>\n",
       "      <td>T</td>\n",
       "      <td>C</td>\n",
       "      <td>A</td>\n",
       "      <td>G</td>\n",
       "      <td>T</td>\n",
       "      <td>G</td>\n",
       "      <td>G</td>\n",
       "      <td>T</td>\n",
       "      <td>G</td>\n",
       "      <td>A</td>\n",
       "      <td>G</td>\n",
       "      <td>0</td>\n",
       "    </tr>\n",
       "    <tr>\n",
       "      <th>810</th>\n",
       "      <td>T</td>\n",
       "      <td>C</td>\n",
       "      <td>A</td>\n",
       "      <td>A</td>\n",
       "      <td>A</td>\n",
       "      <td>A</td>\n",
       "      <td>T</td>\n",
       "      <td>G</td>\n",
       "      <td>T</td>\n",
       "      <td>G</td>\n",
       "      <td>G</td>\n",
       "      <td>T</td>\n",
       "      <td>G</td>\n",
       "      <td>G</td>\n",
       "      <td>A</td>\n",
       "      <td>0</td>\n",
       "    </tr>\n",
       "  </tbody>\n",
       "</table>\n",
       "<p>811 rows × 16 columns</p>\n",
       "</div>"
      ],
      "text/plain": [
       "     0  1  2  3  4  5  6  7  8  9 10 11 12 13 14 label\n",
       "0    A  C  C  A  T  C  T  G  T  G  C  T  G  G  A     0\n",
       "1    A  C  C  A  G  C  A  G  T  G  C  T  G  T  C     0\n",
       "2    A  G  T  C  G  G  G  G  T  G  G  T  G  G  G     0\n",
       "3    G  C  G  G  C  C  T  G  T  A  T  T  C  C  C     0\n",
       "4    G  T  G  A  T  G  G  G  T  G  C  T  G  C  C     0\n",
       "..  .. .. .. .. .. .. .. .. .. .. .. .. .. .. ..   ...\n",
       "806  C  T  G  C  G  C  G  G  T  G  G  T  G  C  C     0\n",
       "807  T  G  A  A  C  C  A  G  T  A  C  T  G  T  A     0\n",
       "808  A  G  A  C  T  G  A  G  T  G  G  T  A  A  G     0\n",
       "809  G  T  G  T  T  C  A  G  T  G  G  T  G  A  G     0\n",
       "810  T  C  A  A  A  A  T  G  T  G  G  T  G  G  A     0\n",
       "\n",
       "[811 rows x 16 columns]"
      ]
     },
     "execution_count": 2,
     "metadata": {},
     "output_type": "execute_result"
    }
   ],
   "source": [
    "import pandas as pd\n",
    "splitted_dataset[3]"
   ]
  }
 ],
 "metadata": {
  "interpreter": {
   "hash": "47f04d2b7c510345e4b0e67757e5f8f3db6e93df493d820b88f505ca3dad1e23"
  },
  "kernelspec": {
   "display_name": "Python 3.8.8 64-bit ('base': conda)",
   "language": "python",
   "name": "python3"
  },
  "language_info": {
   "codemirror_mode": {
    "name": "ipython",
    "version": 3
   },
   "file_extension": ".py",
   "mimetype": "text/x-python",
   "name": "python",
   "nbconvert_exporter": "python",
   "pygments_lexer": "ipython3",
   "version": "3.10.1"
  },
  "orig_nbformat": 4
 },
 "nbformat": 4,
 "nbformat_minor": 2
}
