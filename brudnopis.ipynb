{
 "cells": [
  {
   "cell_type": "code",
   "execution_count": 6,
   "metadata": {},
   "outputs": [],
   "source": [
    "import numpy as np\n",
    "import pandas as pd"
   ]
  },
  {
   "cell_type": "code",
   "execution_count": null,
   "metadata": {},
   "outputs": [],
   "source": [
    "print(\"ok\")"
   ]
  },
  {
   "cell_type": "code",
   "execution_count": 7,
   "metadata": {},
   "outputs": [
    {
     "name": "stdout",
     "output_type": "stream",
     "text": [
      "[ 5  7  9 11 13 15 17 19 21 23 25 27 29]\n",
      "[ 9 15 21 27]\n",
      "['bbb']\n"
     ]
    }
   ],
   "source": [
    "arr = np.arange(5, 30, 2)\n",
    "print(arr)\n",
    "print(arr[arr % 3 == 0])\n",
    "\n",
    "brr = np.array([\"aaa\", \"bbb\", \"ccc\"])\n",
    "print(brr[brr == \"bbb\"])"
   ]
  },
  {
   "cell_type": "code",
   "execution_count": 10,
   "metadata": {},
   "outputs": [
    {
     "name": "stdout",
     "output_type": "stream",
     "text": [
      "[[0. 0. 0. 0. 0. 0. 0.]\n",
      " [0. 0. 0. 0. 0. 0. 0.]\n",
      " [0. 0. 0. 0. 0. 0. 0.]\n",
      " [0. 0. 0. 0. 0. 0. 0.]]\n"
     ]
    }
   ],
   "source": [
    "ccc = np.zeros((4, 7))\n",
    "print(ccc)"
   ]
  },
  {
   "cell_type": "code",
   "execution_count": 13,
   "metadata": {},
   "outputs": [
    {
     "data": {
      "text/plain": [
       "array([[0., 0., 0., 0., 0., 0., 0.],\n",
       "       [2., 2., 2., 2., 2., 2., 2.],\n",
       "       [0., 0., 0., 0., 0., 0., 0.],\n",
       "       [0., 0., 0., 0., 0., 0., 0.]])"
      ]
     },
     "execution_count": 13,
     "metadata": {},
     "output_type": "execute_result"
    }
   ],
   "source": [
    "ccc[1, ] = 2\n",
    "ccc"
   ]
  },
  {
   "cell_type": "code",
   "execution_count": 1,
   "metadata": {},
   "outputs": [
    {
     "name": "stderr",
     "output_type": "stream",
     "text": [
      "2022-01-29 19:05:25.033 | SUCCESS  | run:main:14 - Data loaded\n",
      "2022-01-29 19:05:25.046 | SUCCESS  | run:main:23 - Data is valid\n",
      "2022-01-29 19:05:25.047 | SUCCESS  | run:main:25 - Summary\n",
      "len(donor_positive_only)=1116\n",
      "len(donor_negative_only)=4140\n",
      "len(acceptor_positive_only)=1116\n",
      "len(acceptor_negative_only)=4672\n"
     ]
    }
   ],
   "source": [
    "from run import main\n",
    "\n",
    "donor_positive, donor_negative, acceptor_positive, acceptor_negative = main()"
   ]
  },
  {
   "cell_type": "code",
   "execution_count": 4,
   "metadata": {},
   "outputs": [
    {
     "data": {
      "text/plain": [
       "4140"
      ]
     },
     "execution_count": 4,
     "metadata": {},
     "output_type": "execute_result"
    }
   ],
   "source": [
    "len(donor_negative)"
   ]
  }
 ],
 "metadata": {
  "interpreter": {
   "hash": "47f04d2b7c510345e4b0e67757e5f8f3db6e93df493d820b88f505ca3dad1e23"
  },
  "kernelspec": {
   "display_name": "Python 3.8.8 64-bit ('base': conda)",
   "language": "python",
   "name": "python3"
  },
  "language_info": {
   "codemirror_mode": {
    "name": "ipython",
    "version": 3
   },
   "file_extension": ".py",
   "mimetype": "text/x-python",
   "name": "python",
   "nbconvert_exporter": "python",
   "pygments_lexer": "ipython3",
   "version": "3.10.1"
  },
  "orig_nbformat": 4
 },
 "nbformat": 4,
 "nbformat_minor": 2
}
