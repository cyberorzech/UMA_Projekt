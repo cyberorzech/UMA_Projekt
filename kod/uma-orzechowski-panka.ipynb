{
 "cells": [
  {
   "cell_type": "markdown",
   "metadata": {},
   "source": [
    "## Raport z UMA -- Mikołaj Pańka i Natan Orzechowski"
   ]
  },
  {
   "cell_type": "markdown",
   "metadata": {},
   "source": [
    "importy:"
   ]
  },
  {
   "cell_type": "code",
   "execution_count": 4,
   "metadata": {},
   "outputs": [],
   "source": [
    "import numpy as np\n",
    "import pandas as pd\n",
    "import sklearn as skl\n",
    "\n",
    "from sklearn.tree import DecisionTreeClassifier"
   ]
  },
  {
   "cell_type": "markdown",
   "metadata": {},
   "source": [
    "dane trenujące – donory:"
   ]
  },
  {
   "cell_type": "code",
   "execution_count": 5,
   "metadata": {},
   "outputs": [],
   "source": [
    "DONOR_TRAIN_FILE = \"../dane/spliceDTrainKIS.dat\"\n",
    "FULL_SAMPLE = False"
   ]
  },
  {
   "cell_type": "markdown",
   "metadata": {},
   "source": [
    "Odczyt pliku tekstowego do stringa:"
   ]
  },
  {
   "cell_type": "code",
   "execution_count": 6,
   "metadata": {},
   "outputs": [],
   "source": [
    "donorFile = open(DONOR_TRAIN_FILE)\n",
    "donorText = donorFile.read()\n",
    "donorFile.close()"
   ]
  },
  {
   "cell_type": "markdown",
   "metadata": {},
   "source": [
    "Indeksy linii które są '1', czyli w następnej linii jest przykład pozytywny.\n",
    "To samo dla negatywnych.\n",
    "Wydobywamy przykłady donorów i akceptorów ze stringa:"
   ]
  },
  {
   "cell_type": "code",
   "execution_count": 7,
   "metadata": {},
   "outputs": [],
   "source": [
    "donorLines = np.array(donorText.splitlines())\n",
    "donorPositiveIdx = np.where(donorLines == '1')[0]\n",
    "donorNegativeIdx = np.where(donorLines == '0')[0]\n",
    "yesDonors = donorLines[donorPositiveIdx + 1]\n",
    "notDonors = donorLines[donorNegativeIdx + 1]"
   ]
  },
  {
   "cell_type": "markdown",
   "metadata": {},
   "source": [
    "Do eksperymentów bierzemy tylko podzbiór przykładów trenujących – by było szybciej:"
   ]
  },
  {
   "cell_type": "code",
   "execution_count": 8,
   "metadata": {},
   "outputs": [],
   "source": [
    "if not FULL_SAMPLE:\n",
    "    yesDonors = yesDonors[0:100]\n",
    "    notDonors = notDonors[0:100]"
   ]
  },
  {
   "cell_type": "markdown",
   "metadata": {},
   "source": [
    "Sprawdzić, czy przykłady są tej samej długości:"
   ]
  },
  {
   "cell_type": "code",
   "execution_count": 9,
   "metadata": {},
   "outputs": [
    {
     "name": "stdout",
     "output_type": "stream",
     "text": [
      "Wszystkie przykłady pozytywne donorów tej samej długości:  True\n",
      "Wszystkie przykłady negatywne donorów tej samej długości:  True\n"
     ]
    }
   ],
   "source": [
    "l = len(yesDonors[0])\n",
    "print (\"Wszystkie przykłady pozytywne donorów tej samej długości: \", all(map(lambda v: len(v) == l, yesDonors)))\n",
    "\n",
    "l = len(notDonors[0])\n",
    "print (\"Wszystkie przykłady negatywne donorów tej samej długości: \", all(map(lambda v: len(v) == l, notDonors)))\n",
    "\n",
    "\n",
    "# yd = np.array(object)\n",
    "# yd = np.empty\n",
    "# [np.put(yd, list(donor,)) for donor in yesDonors]"
   ]
  },
  {
   "cell_type": "markdown",
   "metadata": {},
   "source": [
    "Rozbić tablicę stringów na dwuymiarową tablicę liter – by dobrać się do każdego atrybutu z osobna"
   ]
  },
  {
   "cell_type": "code",
   "execution_count": 15,
   "metadata": {},
   "outputs": [
    {
     "data": {
      "text/plain": [
       "[['C', 'T', 'C', 'C', 'G', 'A', 'A', 'G', 'T', 'A', 'G', 'G', 'A', 'T', 'T'],\n",
       " ['T', 'C', 'A', 'G', 'A', 'A', 'G', 'G', 'T', 'G', 'A', 'G', 'G', 'G', 'C'],\n",
       " ['T', 'T', 'G', 'G', 'A', 'A', 'G', 'G', 'T', 'T', 'C', 'G', 'C', 'A', 'G'],\n",
       " ['T', 'A', 'C', 'T', 'C', 'A', 'G', 'G', 'T', 'A', 'C', 'T', 'C', 'A', 'C'],\n",
       " ['C', 'G', 'C', 'C', 'C', 'A', 'G', 'G', 'T', 'G', 'A', 'C', 'C', 'G', 'G'],\n",
       " ['A', 'G', 'A', 'A', 'A', 'G', 'A', 'G', 'T', 'A', 'A', 'G', 'C', 'T', 'C'],\n",
       " ['C', 'A', 'A', 'T', 'G', 'C', 'T', 'G', 'T', 'A', 'T', 'G', 'T', 'G', 'T'],\n",
       " ['G', 'G', 'T', 'C', 'T', 'C', 'G', 'G', 'T', 'A', 'A', 'C', 'T', 'G', 'C'],\n",
       " ['C', 'C', 'T', 'G', 'C', 'T', 'G', 'G', 'T', 'A', 'A', 'G', 'G', 'C', 'C'],\n",
       " ['T', 'G', 'T', 'T', 'G', 'C', 'G', 'G', 'T', 'A', 'G', 'G', 'T', 'C', 'C'],\n",
       " ['G', 'A', 'T', 'G', 'A', 'A', 'G', 'G', 'T', 'A', 'G', 'G', 'T', 'G', 'A'],\n",
       " ['A', 'T', 'G', 'G', 'A', 'A', 'G', 'G', 'T', 'A', 'A', 'A', 'A', 'G', 'T'],\n",
       " ['A', 'A', 'A', 'A', 'A', 'A', 'G', 'G', 'T', 'G', 'A', 'G', 'G', 'G', 'T'],\n",
       " ['A', 'A', 'A', 'G', 'A', 'A', 'G', 'G', 'T', 'A', 'G', 'G', 'A', 'G', 'G'],\n",
       " ['A', 'A', 'T', 'G', 'A', 'A', 'G', 'G', 'T', 'T', 'A', 'G', 'T', 'C', 'T'],\n",
       " ['A', 'T', 'C', 'C', 'C', 'A', 'G', 'G', 'T', 'A', 'A', 'T', 'G', 'A', 'G'],\n",
       " ['G', 'G', 'T', 'G', 'A', 'C', 'G', 'G', 'T', 'G', 'A', 'G', 'T', 'G', 'A'],\n",
       " ['G', 'T', 'C', 'C', 'A', 'A', 'G', 'G', 'T', 'A', 'A', 'G', 'T', 'G', 'C'],\n",
       " ['C', 'T', 'T', 'T', 'T', 'G', 'C', 'G', 'T', 'G', 'A', 'G', 'T', 'G', 'G'],\n",
       " ['G', 'A', 'T', 'C', 'A', 'C', 'G', 'G', 'T', 'G', 'C', 'G', 'T', 'T', 'G'],\n",
       " ['A', 'G', 'A', 'T', 'A', 'A', 'G', 'G', 'T', 'A', 'A', 'G', 'C', 'A', 'G'],\n",
       " ['G', 'G', 'C', 'A', 'G', 'A', 'T', 'G', 'T', 'G', 'A', 'G', 'T', 'G', 'G'],\n",
       " ['T', 'A', 'A', 'G', 'G', 'A', 'G', 'G', 'T', 'A', 'G', 'G', 'G', 'A', 'G'],\n",
       " ['T', 'G', 'T', 'C', 'G', 'A', 'G', 'G', 'T', 'A', 'A', 'G', 'A', 'G', 'A'],\n",
       " ['G', 'G', 'A', 'A', 'A', 'G', 'T', 'G', 'T', 'A', 'A', 'G', 'T', 'T', 'G'],\n",
       " ['A', 'A', 'C', 'C', 'C', 'A', 'A', 'G', 'T', 'A', 'A', 'G', 'C', 'A', 'G'],\n",
       " ['G', 'T', 'G', 'A', 'A', 'A', 'G', 'G', 'T', 'A', 'A', 'G', 'C', 'A', 'G'],\n",
       " ['C', 'A', 'A', 'G', 'A', 'T', 'G', 'G', 'T', 'G', 'A', 'G', 'T', 'G', 'A'],\n",
       " ['G', 'G', 'C', 'A', 'T', 'T', 'G', 'G', 'T', 'A', 'A', 'G', 'T', 'A', 'A'],\n",
       " ['C', 'A', 'A', 'A', 'C', 'A', 'G', 'G', 'T', 'G', 'A', 'G', 'G', 'T', 'T'],\n",
       " ['C', 'G', 'A', 'G', 'C', 'A', 'G', 'G', 'T', 'C', 'G', 'A', 'G', 'T', 'C'],\n",
       " ['C', 'A', 'T', 'C', 'G', 'A', 'G', 'G', 'T', 'G', 'C', 'G', 'T', 'T', 'T'],\n",
       " ['T', 'G', 'A', 'A', 'C', 'T', 'C', 'G', 'T', 'A', 'A', 'G', 'T', 'A', 'C'],\n",
       " ['C', 'G', 'A', 'T', 'G', 'A', 'G', 'G', 'T', 'A', 'A', 'G', 'A', 'G', 'G'],\n",
       " ['A', 'T', 'G', 'G', 'A', 'A', 'G', 'G', 'T', 'G', 'A', 'G', 'G', 'C', 'A'],\n",
       " ['G', 'G', 'C', 'C', 'A', 'C', 'C', 'G', 'T', 'A', 'A', 'G', 'T', 'T', 'T'],\n",
       " ['T', 'G', 'A', 'A', 'A', 'A', 'G', 'G', 'T', 'A', 'C', 'A', 'G', 'T', 'G'],\n",
       " ['C', 'G', 'C', 'G', 'A', 'A', 'G', 'G', 'T', 'A', 'A', 'G', 'A', 'G', 'C'],\n",
       " ['T', 'G', 'G', 'C', 'A', 'A', 'G', 'G', 'T', 'G', 'G', 'G', 'A', 'G', 'T'],\n",
       " ['A', 'A', 'G', 'C', 'A', 'A', 'G', 'G', 'T', 'C', 'T', 'G', 'C', 'C', 'T'],\n",
       " ['C', 'T', 'G', 'C', 'C', 'A', 'G', 'G', 'T', 'G', 'C', 'G', 'T', 'G', 'G'],\n",
       " ['T', 'C', 'T', 'G', 'C', 'A', 'G', 'G', 'T', 'C', 'T', 'C', 'G', 'G', 'G'],\n",
       " ['C', 'A', 'A', 'A', 'A', 'A', 'G', 'G', 'T', 'A', 'A', 'A', 'C', 'G', 'G'],\n",
       " ['C', 'T', 'G', 'G', 'A', 'G', 'T', 'G', 'T', 'G', 'A', 'G', 'T', 'A', 'G'],\n",
       " ['T', 'C', 'A', 'C', 'G', 'G', 'A', 'G', 'T', 'A', 'A', 'G', 'C', 'A', 'G'],\n",
       " ['A', 'T', 'G', 'C', 'C', 'A', 'A', 'G', 'T', 'G', 'A', 'G', 'G', 'A', 'T'],\n",
       " ['A', 'A', 'A', 'C', 'A', 'G', 'G', 'G', 'T', 'A', 'A', 'G', 'A', 'C', 'G'],\n",
       " ['C', 'A', 'G', 'G', 'C', 'A', 'G', 'G', 'T', 'G', 'A', 'G', 'T', 'G', 'C'],\n",
       " ['A', 'G', 'C', 'A', 'A', 'A', 'G', 'G', 'T', 'G', 'C', 'A', 'G', 'G', 'T'],\n",
       " ['G', 'G', 'C', 'T', 'G', 'G', 'G', 'G', 'T', 'G', 'A', 'G', 'A', 'G', 'A'],\n",
       " ['T', 'T', 'C', 'A', 'A', 'G', 'G', 'G', 'T', 'A', 'A', 'G', 'C', 'A', 'G'],\n",
       " ['G', 'G', 'A', 'A', 'C', 'A', 'G', 'G', 'T', 'A', 'T', 'G', 'A', 'C', 'G'],\n",
       " ['G', 'A', 'T', 'C', 'C', 'A', 'C', 'G', 'T', 'A', 'A', 'G', 'G', 'C', 'A'],\n",
       " ['A', 'T', 'T', 'G', 'A', 'A', 'G', 'G', 'T', 'A', 'T', 'G', 'T', 'T', 'T'],\n",
       " ['A', 'A', 'G', 'A', 'A', 'G', 'G', 'G', 'T', 'A', 'C', 'G', 'G', 'G', 'G'],\n",
       " ['T', 'G', 'C', 'C', 'C', 'A', 'G', 'G', 'T', 'G', 'A', 'G', 'G', 'T', 'C'],\n",
       " ['A', 'C', 'C', 'G', 'T', 'A', 'G', 'G', 'T', 'G', 'A', 'G', 'T', 'G', 'T'],\n",
       " ['T', 'G', 'G', 'A', 'A', 'A', 'G', 'G', 'T', 'G', 'A', 'G', 'G', 'C', 'C'],\n",
       " ['A', 'T', 'G', 'A', 'G', 'C', 'G', 'G', 'T', 'G', 'A', 'G', 'C', 'C', 'T'],\n",
       " ['C', 'A', 'C', 'C', 'G', 'G', 'G', 'G', 'T', 'T', 'A', 'A', 'T', 'G', 'G'],\n",
       " ['C', 'T', 'G', 'C', 'A', 'G', 'G', 'G', 'T', 'G', 'A', 'G', 'T', 'A', 'A'],\n",
       " ['T', 'C', 'C', 'A', 'T', 'G', 'G', 'G', 'T', 'A', 'T', 'G', 'A', 'A', 'G'],\n",
       " ['A', 'G', 'G', 'T', 'C', 'A', 'G', 'G', 'T', 'G', 'A', 'G', 'T', 'T', 'T'],\n",
       " ['A', 'C', 'A', 'G', 'A', 'C', 'G', 'G', 'T', 'A', 'A', 'C', 'C', 'A', 'G'],\n",
       " ['C', 'G', 'T', 'C', 'G', 'T', 'G', 'G', 'T', 'G', 'A', 'G', 'C', 'A', 'G'],\n",
       " ['T', 'G', 'G', 'A', 'C', 'A', 'G', 'G', 'T', 'A', 'A', 'G', 'T', 'A', 'A'],\n",
       " ['C', 'T', 'A', 'T', 'T', 'G', 'T', 'G', 'T', 'G', 'A', 'G', 'T', 'A', 'T'],\n",
       " ['T', 'G', 'G', 'A', 'A', 'A', 'G', 'G', 'T', 'A', 'T', 'G', 'T', 'A', 'T'],\n",
       " ['T', 'G', 'T', 'G', 'G', 'A', 'A', 'G', 'T', 'A', 'A', 'G', 'T', 'T', 'C'],\n",
       " ['T', 'C', 'G', 'C', 'A', 'A', 'G', 'G', 'T', 'A', 'T', 'G', 'T', 'A', 'T'],\n",
       " ['C', 'C', 'A', 'G', 'A', 'C', 'T', 'G', 'T', 'A', 'A', 'G', 'T', 'G', 'A'],\n",
       " ['T', 'T', 'T', 'G', 'A', 'A', 'T', 'G', 'T', 'A', 'A', 'G', 'T', 'A', 'A'],\n",
       " ['T', 'G', 'T', 'A', 'C', 'A', 'G', 'G', 'T', 'T', 'T', 'G', 'T', 'T', 'T'],\n",
       " ['A', 'A', 'G', 'A', 'A', 'C', 'A', 'G', 'T', 'G', 'A', 'G', 'T', 'A', 'T'],\n",
       " ['T', 'A', 'T', 'G', 'T', 'T', 'G', 'G', 'T', 'A', 'A', 'G', 'C', 'A', 'A'],\n",
       " ['G', 'A', 'A', 'T', 'T', 'A', 'G', 'G', 'T', 'A', 'A', 'G', 'T', 'A', 'A'],\n",
       " ['C', 'C', 'A', 'G', 'C', 'A', 'G', 'G', 'T', 'C', 'A', 'T', 'A', 'A', 'T'],\n",
       " ['T', 'T', 'G', 'G', 'C', 'A', 'G', 'G', 'T', 'A', 'C', 'T', 'T', 'T', 'A'],\n",
       " ['G', 'T', 'C', 'G', 'C', 'A', 'G', 'G', 'T', 'A', 'A', 'A', 'T', 'A', 'C'],\n",
       " ['C', 'C', 'G', 'C', 'G', 'G', 'G', 'G', 'T', 'G', 'A', 'G', 'T', 'G', 'A'],\n",
       " ['G', 'G', 'G', 'G', 'G', 'C', 'G', 'G', 'T', 'A', 'A', 'T', 'G', 'G', 'C'],\n",
       " ['T', 'C', 'C', 'C', 'A', 'A', 'T', 'G', 'T', 'A', 'G', 'G', 'T', 'G', 'C'],\n",
       " ['A', 'A', 'C', 'C', 'T', 'G', 'T', 'G', 'T', 'G', 'A', 'G', 'T', 'G', 'T'],\n",
       " ['T', 'G', 'A', 'C', 'T', 'T', 'T', 'G', 'T', 'G', 'A', 'G', 'T', 'C', 'C'],\n",
       " ['A', 'G', 'A', 'C', 'A', 'A', 'G', 'G', 'T', 'A', 'A', 'T', 'G', 'G', 'G'],\n",
       " ['C', 'T', 'T', 'T', 'G', 'A', 'G', 'G', 'T', 'G', 'A', 'T', 'G', 'C', 'C'],\n",
       " ['G', 'C', 'C', 'A', 'C', 'C', 'G', 'G', 'T', 'G', 'A', 'G', 'C', 'G', 'G'],\n",
       " ['G', 'C', 'A', 'A', 'G', 'G', 'G', 'G', 'T', 'A', 'A', 'G', 'G', 'A', 'C'],\n",
       " ['A', 'G', 'G', 'C', 'T', 'G', 'G', 'G', 'T', 'A', 'A', 'G', 'T', 'A', 'G'],\n",
       " ['G', 'C', 'C', 'T', 'A', 'A', 'G', 'G', 'T', 'A', 'G', 'G', 'G', 'T', 'T'],\n",
       " ['C', 'T', 'C', 'A', 'G', 'A', 'G', 'G', 'T', 'G', 'A', 'G', 'T', 'C', 'T'],\n",
       " ['G', 'C', 'G', 'C', 'C', 'A', 'G', 'G', 'T', 'A', 'T', 'G', 'T', 'A', 'G'],\n",
       " ['G', 'G', 'A', 'C', 'C', 'G', 'G', 'G', 'T', 'G', 'A', 'G', 'T', 'G', 'C'],\n",
       " ['A', 'G', 'A', 'C', 'C', 'C', 'G', 'G', 'T', 'G', 'A', 'G', 'A', 'G', 'C'],\n",
       " ['A', 'G', 'A', 'T', 'A', 'C', 'G', 'G', 'T', 'G', 'A', 'G', 'G', 'G', 'C'],\n",
       " ['T', 'T', 'C', 'T', 'A', 'T', 'G', 'G', 'T', 'A', 'G', 'G', 'C', 'A', 'T'],\n",
       " ['G', 'A', 'A', 'A', 'A', 'A', 'G', 'G', 'T', 'A', 'A', 'A', 'C', 'G', 'C'],\n",
       " ['C', 'T', 'G', 'A', 'T', 'G', 'G', 'G', 'T', 'G', 'A', 'G', 'T', 'G', 'T'],\n",
       " ['G', 'A', 'G', 'T', 'G', 'A', 'G', 'G', 'T', 'G', 'G', 'G', 'T', 'G', 'A'],\n",
       " ['G', 'C', 'A', 'G', 'C', 'T', 'G', 'G', 'T', 'G', 'A', 'G', 'T', 'G', 'T']]"
      ]
     },
     "execution_count": 15,
     "metadata": {},
     "output_type": "execute_result"
    }
   ],
   "source": [
    "yd = [list(d) for d in yesDonors]\n",
    "nd = [list(d) for d in notDonors]"
   ]
  }
 ],
 "metadata": {
  "interpreter": {
   "hash": "47f04d2b7c510345e4b0e67757e5f8f3db6e93df493d820b88f505ca3dad1e23"
  },
  "kernelspec": {
   "display_name": "Python 3.8.8 64-bit ('base': conda)",
   "language": "python",
   "name": "python3"
  },
  "language_info": {
   "codemirror_mode": {
    "name": "ipython",
    "version": 3
   },
   "file_extension": ".py",
   "mimetype": "text/x-python",
   "name": "python",
   "nbconvert_exporter": "python",
   "pygments_lexer": "ipython3",
   "version": "3.8.8"
  },
  "orig_nbformat": 4
 },
 "nbformat": 4,
 "nbformat_minor": 2
}
