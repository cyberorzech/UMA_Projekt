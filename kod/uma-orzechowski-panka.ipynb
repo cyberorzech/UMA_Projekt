{
 "cells": [
  {
   "cell_type": "markdown",
   "metadata": {},
   "source": [
    "## Raport z UMA -- Mikołaj Pańka i Natan Orzechowski"
   ]
  },
  {
   "cell_type": "code",
   "execution_count": 5,
   "metadata": {},
   "outputs": [],
   "source": [
    "import numpy as np\n",
    "import pandas as pd\n",
    "import sklearn as skl\n",
    "\n",
    "from sklearn.tree import DecisionTreeClassifier"
   ]
  },
  {
   "cell_type": "code",
   "execution_count": 6,
   "metadata": {},
   "outputs": [],
   "source": [
    "DONOR_TRAIN_FILE = \"../dane/spliceDTrainKIS.dat\""
   ]
  },
  {
   "cell_type": "code",
   "execution_count": 7,
   "metadata": {},
   "outputs": [],
   "source": [
    "donorFile = open(DONOR_TRAIN_FILE)\n",
    "donorText = donorFile.read()\n",
    "donorFile.close()"
   ]
  },
  {
   "cell_type": "code",
   "execution_count": 10,
   "metadata": {},
   "outputs": [
    {
     "name": "stdout",
     "output_type": "stream",
     "text": [
      "['7', '1', 'CTCCGAAGTAGGATT', '1', 'TCAGAAGGTGAGGGC', '1', 'TTGGAAGGTTCGCAG', '1', 'TACTCAGGTACTCAC', '1']\n"
     ]
    }
   ],
   "source": [
    "donorLines = donorText.splitlines()\n",
    "print(donorLines[0:10])"
   ]
  }
 ],
 "metadata": {
  "interpreter": {
   "hash": "47f04d2b7c510345e4b0e67757e5f8f3db6e93df493d820b88f505ca3dad1e23"
  },
  "kernelspec": {
   "display_name": "Python 3.8.8 64-bit ('base': conda)",
   "language": "python",
   "name": "python3"
  },
  "language_info": {
   "codemirror_mode": {
    "name": "ipython",
    "version": 3
   },
   "file_extension": ".py",
   "mimetype": "text/x-python",
   "name": "python",
   "nbconvert_exporter": "python",
   "pygments_lexer": "ipython3",
   "version": "3.8.8"
  },
  "orig_nbformat": 4
 },
 "nbformat": 4,
 "nbformat_minor": 2
}
